{
 "cells": [
  {
   "cell_type": "code",
   "execution_count": 5,
   "id": "97f86880-4d15-433c-80be-7a518a5386b5",
   "metadata": {
    "tags": []
   },
   "outputs": [],
   "source": [
    "import pandas as pd\n",
    "import numpy as np\n",
    "import matplotlib.pyplot as plt\n",
    "import seaborn as sns\n",
    "import requests\n",
    "from bs4 import BeautifulSoup"
   ]
  },
  {
   "cell_type": "code",
   "execution_count": 119,
   "id": "da4b4424-6a44-43eb-8c74-3ee24d52255c",
   "metadata": {
    "tags": []
   },
   "outputs": [],
   "source": [
    "df_results = pd.read_csv(\"data/results.csv\")"
   ]
  },
  {
   "cell_type": "code",
   "execution_count": 50,
   "id": "2d321826-8fde-4504-bb17-eab7d3401f40",
   "metadata": {
    "collapsed": true,
    "jupyter": {
     "outputs_hidden": true
    },
    "tags": []
   },
   "outputs": [
    {
     "data": {
      "text/html": [
       "<div>\n",
       "<style scoped>\n",
       "    .dataframe tbody tr th:only-of-type {\n",
       "        vertical-align: middle;\n",
       "    }\n",
       "\n",
       "    .dataframe tbody tr th {\n",
       "        vertical-align: top;\n",
       "    }\n",
       "\n",
       "    .dataframe thead th {\n",
       "        text-align: right;\n",
       "    }\n",
       "</style>\n",
       "<table border=\"1\" class=\"dataframe\">\n",
       "  <thead>\n",
       "    <tr style=\"text-align: right;\">\n",
       "      <th></th>\n",
       "      <th>date</th>\n",
       "      <th>home_team</th>\n",
       "      <th>away_team</th>\n",
       "      <th>home_score</th>\n",
       "      <th>away_score</th>\n",
       "      <th>tournament</th>\n",
       "      <th>city</th>\n",
       "      <th>country</th>\n",
       "      <th>neutral</th>\n",
       "    </tr>\n",
       "  </thead>\n",
       "  <tbody>\n",
       "    <tr>\n",
       "      <th>0</th>\n",
       "      <td>1872-11-30</td>\n",
       "      <td>Scotland</td>\n",
       "      <td>England</td>\n",
       "      <td>0.0</td>\n",
       "      <td>0.0</td>\n",
       "      <td>Friendly</td>\n",
       "      <td>Glasgow</td>\n",
       "      <td>Scotland</td>\n",
       "      <td>False</td>\n",
       "    </tr>\n",
       "    <tr>\n",
       "      <th>1</th>\n",
       "      <td>1873-03-08</td>\n",
       "      <td>England</td>\n",
       "      <td>Scotland</td>\n",
       "      <td>4.0</td>\n",
       "      <td>2.0</td>\n",
       "      <td>Friendly</td>\n",
       "      <td>London</td>\n",
       "      <td>England</td>\n",
       "      <td>False</td>\n",
       "    </tr>\n",
       "    <tr>\n",
       "      <th>2</th>\n",
       "      <td>1874-03-07</td>\n",
       "      <td>Scotland</td>\n",
       "      <td>England</td>\n",
       "      <td>2.0</td>\n",
       "      <td>1.0</td>\n",
       "      <td>Friendly</td>\n",
       "      <td>Glasgow</td>\n",
       "      <td>Scotland</td>\n",
       "      <td>False</td>\n",
       "    </tr>\n",
       "    <tr>\n",
       "      <th>3</th>\n",
       "      <td>1875-03-06</td>\n",
       "      <td>England</td>\n",
       "      <td>Scotland</td>\n",
       "      <td>2.0</td>\n",
       "      <td>2.0</td>\n",
       "      <td>Friendly</td>\n",
       "      <td>London</td>\n",
       "      <td>England</td>\n",
       "      <td>False</td>\n",
       "    </tr>\n",
       "    <tr>\n",
       "      <th>4</th>\n",
       "      <td>1876-03-04</td>\n",
       "      <td>Scotland</td>\n",
       "      <td>England</td>\n",
       "      <td>3.0</td>\n",
       "      <td>0.0</td>\n",
       "      <td>Friendly</td>\n",
       "      <td>Glasgow</td>\n",
       "      <td>Scotland</td>\n",
       "      <td>False</td>\n",
       "    </tr>\n",
       "    <tr>\n",
       "      <th>...</th>\n",
       "      <td>...</td>\n",
       "      <td>...</td>\n",
       "      <td>...</td>\n",
       "      <td>...</td>\n",
       "      <td>...</td>\n",
       "      <td>...</td>\n",
       "      <td>...</td>\n",
       "      <td>...</td>\n",
       "      <td>...</td>\n",
       "    </tr>\n",
       "    <tr>\n",
       "      <th>47320</th>\n",
       "      <td>2024-07-06</td>\n",
       "      <td>NaN</td>\n",
       "      <td>NaN</td>\n",
       "      <td>NaN</td>\n",
       "      <td>NaN</td>\n",
       "      <td>UEFA Euro</td>\n",
       "      <td>Düsseldorf</td>\n",
       "      <td>Germany</td>\n",
       "      <td>True</td>\n",
       "    </tr>\n",
       "    <tr>\n",
       "      <th>47321</th>\n",
       "      <td>2024-07-06</td>\n",
       "      <td>NaN</td>\n",
       "      <td>NaN</td>\n",
       "      <td>NaN</td>\n",
       "      <td>NaN</td>\n",
       "      <td>UEFA Euro</td>\n",
       "      <td>Berlin</td>\n",
       "      <td>Germany</td>\n",
       "      <td>True</td>\n",
       "    </tr>\n",
       "    <tr>\n",
       "      <th>47322</th>\n",
       "      <td>2024-07-09</td>\n",
       "      <td>NaN</td>\n",
       "      <td>NaN</td>\n",
       "      <td>NaN</td>\n",
       "      <td>NaN</td>\n",
       "      <td>UEFA Euro</td>\n",
       "      <td>Munich</td>\n",
       "      <td>Germany</td>\n",
       "      <td>True</td>\n",
       "    </tr>\n",
       "    <tr>\n",
       "      <th>47323</th>\n",
       "      <td>2024-07-10</td>\n",
       "      <td>NaN</td>\n",
       "      <td>NaN</td>\n",
       "      <td>NaN</td>\n",
       "      <td>NaN</td>\n",
       "      <td>UEFA Euro</td>\n",
       "      <td>Dortmund</td>\n",
       "      <td>Germany</td>\n",
       "      <td>True</td>\n",
       "    </tr>\n",
       "    <tr>\n",
       "      <th>47324</th>\n",
       "      <td>2024-07-14</td>\n",
       "      <td>NaN</td>\n",
       "      <td>NaN</td>\n",
       "      <td>NaN</td>\n",
       "      <td>NaN</td>\n",
       "      <td>UEFA Euro</td>\n",
       "      <td>Berlin</td>\n",
       "      <td>Germany</td>\n",
       "      <td>True</td>\n",
       "    </tr>\n",
       "  </tbody>\n",
       "</table>\n",
       "<p>47325 rows × 9 columns</p>\n",
       "</div>"
      ],
      "text/plain": [
       "             date home_team away_team  home_score  away_score tournament  \\\n",
       "0      1872-11-30  Scotland   England         0.0         0.0   Friendly   \n",
       "1      1873-03-08   England  Scotland         4.0         2.0   Friendly   \n",
       "2      1874-03-07  Scotland   England         2.0         1.0   Friendly   \n",
       "3      1875-03-06   England  Scotland         2.0         2.0   Friendly   \n",
       "4      1876-03-04  Scotland   England         3.0         0.0   Friendly   \n",
       "...           ...       ...       ...         ...         ...        ...   \n",
       "47320  2024-07-06       NaN       NaN         NaN         NaN  UEFA Euro   \n",
       "47321  2024-07-06       NaN       NaN         NaN         NaN  UEFA Euro   \n",
       "47322  2024-07-09       NaN       NaN         NaN         NaN  UEFA Euro   \n",
       "47323  2024-07-10       NaN       NaN         NaN         NaN  UEFA Euro   \n",
       "47324  2024-07-14       NaN       NaN         NaN         NaN  UEFA Euro   \n",
       "\n",
       "             city   country  neutral  \n",
       "0         Glasgow  Scotland    False  \n",
       "1          London   England    False  \n",
       "2         Glasgow  Scotland    False  \n",
       "3          London   England    False  \n",
       "4         Glasgow  Scotland    False  \n",
       "...           ...       ...      ...  \n",
       "47320  Düsseldorf   Germany     True  \n",
       "47321      Berlin   Germany     True  \n",
       "47322      Munich   Germany     True  \n",
       "47323    Dortmund   Germany     True  \n",
       "47324      Berlin   Germany     True  \n",
       "\n",
       "[47325 rows x 9 columns]"
      ]
     },
     "execution_count": 50,
     "metadata": {},
     "output_type": "execute_result"
    }
   ],
   "source": [
    "df_results "
   ]
  },
  {
   "cell_type": "code",
   "execution_count": 121,
   "id": "8b074e01-5471-4d76-b149-0036acb0bea7",
   "metadata": {
    "tags": []
   },
   "outputs": [],
   "source": [
    "def determine_winner(row):\n",
    "    if pd.isna(row['home_score']) or pd.isna(row['away_score']):\n",
    "        return None\n",
    "    if row['home_score'] > row['away_score']:\n",
    "        return row['home_team']\n",
    "    elif row['home_score'] < row['away_score']:\n",
    "        return row['away_team']\n",
    "    else:\n",
    "        return 'Draw'\n",
    "\n"
   ]
  },
  {
   "cell_type": "code",
   "execution_count": 123,
   "id": "e1d130a1-4db1-4967-a505-ed096b8499ba",
   "metadata": {
    "tags": []
   },
   "outputs": [
    {
     "data": {
      "text/html": [
       "<div>\n",
       "<style scoped>\n",
       "    .dataframe tbody tr th:only-of-type {\n",
       "        vertical-align: middle;\n",
       "    }\n",
       "\n",
       "    .dataframe tbody tr th {\n",
       "        vertical-align: top;\n",
       "    }\n",
       "\n",
       "    .dataframe thead th {\n",
       "        text-align: right;\n",
       "    }\n",
       "</style>\n",
       "<table border=\"1\" class=\"dataframe\">\n",
       "  <thead>\n",
       "    <tr style=\"text-align: right;\">\n",
       "      <th></th>\n",
       "      <th>date</th>\n",
       "      <th>home_team</th>\n",
       "      <th>away_team</th>\n",
       "      <th>home_score</th>\n",
       "      <th>away_score</th>\n",
       "      <th>tournament</th>\n",
       "      <th>city</th>\n",
       "      <th>country</th>\n",
       "      <th>neutral</th>\n",
       "      <th>winner</th>\n",
       "    </tr>\n",
       "  </thead>\n",
       "  <tbody>\n",
       "    <tr>\n",
       "      <th>0</th>\n",
       "      <td>1872-11-30</td>\n",
       "      <td>Scotland</td>\n",
       "      <td>England</td>\n",
       "      <td>0.0</td>\n",
       "      <td>0.0</td>\n",
       "      <td>Friendly</td>\n",
       "      <td>Glasgow</td>\n",
       "      <td>Scotland</td>\n",
       "      <td>False</td>\n",
       "      <td>Draw</td>\n",
       "    </tr>\n",
       "    <tr>\n",
       "      <th>1</th>\n",
       "      <td>1873-03-08</td>\n",
       "      <td>England</td>\n",
       "      <td>Scotland</td>\n",
       "      <td>4.0</td>\n",
       "      <td>2.0</td>\n",
       "      <td>Friendly</td>\n",
       "      <td>London</td>\n",
       "      <td>England</td>\n",
       "      <td>False</td>\n",
       "      <td>England</td>\n",
       "    </tr>\n",
       "    <tr>\n",
       "      <th>2</th>\n",
       "      <td>1874-03-07</td>\n",
       "      <td>Scotland</td>\n",
       "      <td>England</td>\n",
       "      <td>2.0</td>\n",
       "      <td>1.0</td>\n",
       "      <td>Friendly</td>\n",
       "      <td>Glasgow</td>\n",
       "      <td>Scotland</td>\n",
       "      <td>False</td>\n",
       "      <td>Scotland</td>\n",
       "    </tr>\n",
       "    <tr>\n",
       "      <th>3</th>\n",
       "      <td>1875-03-06</td>\n",
       "      <td>England</td>\n",
       "      <td>Scotland</td>\n",
       "      <td>2.0</td>\n",
       "      <td>2.0</td>\n",
       "      <td>Friendly</td>\n",
       "      <td>London</td>\n",
       "      <td>England</td>\n",
       "      <td>False</td>\n",
       "      <td>Draw</td>\n",
       "    </tr>\n",
       "    <tr>\n",
       "      <th>4</th>\n",
       "      <td>1876-03-04</td>\n",
       "      <td>Scotland</td>\n",
       "      <td>England</td>\n",
       "      <td>3.0</td>\n",
       "      <td>0.0</td>\n",
       "      <td>Friendly</td>\n",
       "      <td>Glasgow</td>\n",
       "      <td>Scotland</td>\n",
       "      <td>False</td>\n",
       "      <td>Scotland</td>\n",
       "    </tr>\n",
       "    <tr>\n",
       "      <th>...</th>\n",
       "      <td>...</td>\n",
       "      <td>...</td>\n",
       "      <td>...</td>\n",
       "      <td>...</td>\n",
       "      <td>...</td>\n",
       "      <td>...</td>\n",
       "      <td>...</td>\n",
       "      <td>...</td>\n",
       "      <td>...</td>\n",
       "      <td>...</td>\n",
       "    </tr>\n",
       "    <tr>\n",
       "      <th>47320</th>\n",
       "      <td>2024-07-06</td>\n",
       "      <td>NaN</td>\n",
       "      <td>NaN</td>\n",
       "      <td>NaN</td>\n",
       "      <td>NaN</td>\n",
       "      <td>UEFA Euro</td>\n",
       "      <td>Düsseldorf</td>\n",
       "      <td>Germany</td>\n",
       "      <td>True</td>\n",
       "      <td>None</td>\n",
       "    </tr>\n",
       "    <tr>\n",
       "      <th>47321</th>\n",
       "      <td>2024-07-06</td>\n",
       "      <td>NaN</td>\n",
       "      <td>NaN</td>\n",
       "      <td>NaN</td>\n",
       "      <td>NaN</td>\n",
       "      <td>UEFA Euro</td>\n",
       "      <td>Berlin</td>\n",
       "      <td>Germany</td>\n",
       "      <td>True</td>\n",
       "      <td>None</td>\n",
       "    </tr>\n",
       "    <tr>\n",
       "      <th>47322</th>\n",
       "      <td>2024-07-09</td>\n",
       "      <td>NaN</td>\n",
       "      <td>NaN</td>\n",
       "      <td>NaN</td>\n",
       "      <td>NaN</td>\n",
       "      <td>UEFA Euro</td>\n",
       "      <td>Munich</td>\n",
       "      <td>Germany</td>\n",
       "      <td>True</td>\n",
       "      <td>None</td>\n",
       "    </tr>\n",
       "    <tr>\n",
       "      <th>47323</th>\n",
       "      <td>2024-07-10</td>\n",
       "      <td>NaN</td>\n",
       "      <td>NaN</td>\n",
       "      <td>NaN</td>\n",
       "      <td>NaN</td>\n",
       "      <td>UEFA Euro</td>\n",
       "      <td>Dortmund</td>\n",
       "      <td>Germany</td>\n",
       "      <td>True</td>\n",
       "      <td>None</td>\n",
       "    </tr>\n",
       "    <tr>\n",
       "      <th>47324</th>\n",
       "      <td>2024-07-14</td>\n",
       "      <td>NaN</td>\n",
       "      <td>NaN</td>\n",
       "      <td>NaN</td>\n",
       "      <td>NaN</td>\n",
       "      <td>UEFA Euro</td>\n",
       "      <td>Berlin</td>\n",
       "      <td>Germany</td>\n",
       "      <td>True</td>\n",
       "      <td>None</td>\n",
       "    </tr>\n",
       "  </tbody>\n",
       "</table>\n",
       "<p>47325 rows × 10 columns</p>\n",
       "</div>"
      ],
      "text/plain": [
       "             date home_team away_team  home_score  away_score tournament  \\\n",
       "0      1872-11-30  Scotland   England         0.0         0.0   Friendly   \n",
       "1      1873-03-08   England  Scotland         4.0         2.0   Friendly   \n",
       "2      1874-03-07  Scotland   England         2.0         1.0   Friendly   \n",
       "3      1875-03-06   England  Scotland         2.0         2.0   Friendly   \n",
       "4      1876-03-04  Scotland   England         3.0         0.0   Friendly   \n",
       "...           ...       ...       ...         ...         ...        ...   \n",
       "47320  2024-07-06       NaN       NaN         NaN         NaN  UEFA Euro   \n",
       "47321  2024-07-06       NaN       NaN         NaN         NaN  UEFA Euro   \n",
       "47322  2024-07-09       NaN       NaN         NaN         NaN  UEFA Euro   \n",
       "47323  2024-07-10       NaN       NaN         NaN         NaN  UEFA Euro   \n",
       "47324  2024-07-14       NaN       NaN         NaN         NaN  UEFA Euro   \n",
       "\n",
       "             city   country  neutral    winner  \n",
       "0         Glasgow  Scotland    False      Draw  \n",
       "1          London   England    False   England  \n",
       "2         Glasgow  Scotland    False  Scotland  \n",
       "3          London   England    False      Draw  \n",
       "4         Glasgow  Scotland    False  Scotland  \n",
       "...           ...       ...      ...       ...  \n",
       "47320  Düsseldorf   Germany     True      None  \n",
       "47321      Berlin   Germany     True      None  \n",
       "47322      Munich   Germany     True      None  \n",
       "47323    Dortmund   Germany     True      None  \n",
       "47324      Berlin   Germany     True      None  \n",
       "\n",
       "[47325 rows x 10 columns]"
      ]
     },
     "execution_count": 123,
     "metadata": {},
     "output_type": "execute_result"
    }
   ],
   "source": [
    "# Apply the function to each row in the DataFrame\n",
    "df_results['winner'] = df_results.apply(determine_winner, axis=1)\n",
    "\n",
    "# Display the DataFrame with the new 'winner' column\n",
    "df_results"
   ]
  },
  {
   "cell_type": "code",
   "execution_count": 125,
   "id": "222e02c2-207a-474d-9d78-8715023de0f7",
   "metadata": {
    "tags": []
   },
   "outputs": [],
   "source": [
    "df_results[\"date\"] = pd.to_datetime(df_results[\"date\"])"
   ]
  },
  {
   "cell_type": "code",
   "execution_count": 127,
   "id": "8acf4a2f-670c-4350-905e-25f70c35761c",
   "metadata": {
    "tags": []
   },
   "outputs": [],
   "source": [
    "df_results[\"year\"] = df_results[\"date\"].dt.year"
   ]
  },
  {
   "cell_type": "code",
   "execution_count": 129,
   "id": "50610d9c-a727-424f-8dde-3068c1a3a452",
   "metadata": {
    "tags": []
   },
   "outputs": [],
   "source": [
    "df_clean = df_results"
   ]
  },
  {
   "cell_type": "code",
   "execution_count": 81,
   "id": "f4136f74-99d7-4e21-be34-0dc3c832c24a",
   "metadata": {
    "tags": []
   },
   "outputs": [],
   "source": [
    "df_clean.to_csv(\"Matches Data.csv\")"
   ]
  },
  {
   "cell_type": "code",
   "execution_count": 139,
   "id": "d4929b7e-752b-44e7-ae92-49194ed64c8b",
   "metadata": {
    "tags": []
   },
   "outputs": [],
   "source": [
    "df_clean.drop(\"date\",axis=1,inplace=True)"
   ]
  },
  {
   "cell_type": "code",
   "execution_count": 92,
   "id": "eb92a4a9-e2e1-4e5d-874d-6608681a7436",
   "metadata": {},
   "outputs": [],
   "source": [
    "df_teams = pd.read_csv(\"data/Euro_24.csv\")"
   ]
  },
  {
   "cell_type": "code",
   "execution_count": 97,
   "id": "3bfdddc4-1591-4eca-b821-38e5e961f02b",
   "metadata": {
    "tags": []
   },
   "outputs": [],
   "source": [
    "team_list = df_teams[\"Home_Team\"].unique()"
   ]
  },
  {
   "cell_type": "code",
   "execution_count": 90,
   "id": "138b8441-53ea-48ca-8303-63448904d25f",
   "metadata": {
    "tags": []
   },
   "outputs": [
    {
     "ename": "NameError",
     "evalue": "name 'df_teams' is not defined",
     "output_type": "error",
     "traceback": [
      "\u001b[1;31m---------------------------------------------------------------------------\u001b[0m",
      "\u001b[1;31mNameError\u001b[0m                                 Traceback (most recent call last)",
      "Cell \u001b[1;32mIn[90], line 1\u001b[0m\n\u001b[1;32m----> 1\u001b[0m \u001b[38;5;28mlen\u001b[39m(\u001b[43mdf_teams\u001b[49m[\u001b[38;5;124m\"\u001b[39m\u001b[38;5;124mAway_Team\u001b[39m\u001b[38;5;124m\"\u001b[39m]\u001b[38;5;241m.\u001b[39munique())\n",
      "\u001b[1;31mNameError\u001b[0m: name 'df_teams' is not defined"
     ]
    }
   ],
   "source": [
    "len(df_teams[\"Away_Team\"].unique())"
   ]
  },
  {
   "cell_type": "code",
   "execution_count": 99,
   "id": "1b96d90a-9a05-4dce-aa9e-08be81add971",
   "metadata": {
    "tags": []
   },
   "outputs": [
    {
     "data": {
      "text/plain": [
       "array(['Germany', 'Hungary', 'Scotland', 'Switzerland', 'Spain', 'Italy',\n",
       "       'Croatia', 'Albania', 'Slovenia', 'Serbia', 'Denmark', 'England',\n",
       "       'Poland', 'Austria', 'Netherlands', 'France', 'Romania', 'Belgium',\n",
       "       'Slovakia', 'Ukraine', 'Türkiye', 'Portugal', 'Georgia', 'Czechia'],\n",
       "      dtype=object)"
      ]
     },
     "execution_count": 99,
     "metadata": {},
     "output_type": "execute_result"
    }
   ],
   "source": [
    "team_list"
   ]
  },
  {
   "cell_type": "code",
   "execution_count": 28,
   "id": "dc81bb68-f47e-40e6-8fcd-f24741c1f26e",
   "metadata": {
    "tags": []
   },
   "outputs": [
    {
     "data": {
      "text/plain": [
       "'Germany'"
      ]
     },
     "execution_count": 28,
     "metadata": {},
     "output_type": "execute_result"
    }
   ],
   "source": [
    "team_list[0]"
   ]
  },
  {
   "cell_type": "code",
   "execution_count": 135,
   "id": "f13f04ae-a59e-47b7-844c-bf1ef77f1d0c",
   "metadata": {
    "tags": []
   },
   "outputs": [
    {
     "data": {
      "text/html": [
       "<div>\n",
       "<style scoped>\n",
       "    .dataframe tbody tr th:only-of-type {\n",
       "        vertical-align: middle;\n",
       "    }\n",
       "\n",
       "    .dataframe tbody tr th {\n",
       "        vertical-align: top;\n",
       "    }\n",
       "\n",
       "    .dataframe thead th {\n",
       "        text-align: right;\n",
       "    }\n",
       "</style>\n",
       "<table border=\"1\" class=\"dataframe\">\n",
       "  <thead>\n",
       "    <tr style=\"text-align: right;\">\n",
       "      <th></th>\n",
       "      <th>date</th>\n",
       "      <th>home_team</th>\n",
       "      <th>away_team</th>\n",
       "      <th>home_score</th>\n",
       "      <th>away_score</th>\n",
       "      <th>tournament</th>\n",
       "      <th>city</th>\n",
       "      <th>country</th>\n",
       "      <th>neutral</th>\n",
       "      <th>winner</th>\n",
       "      <th>year</th>\n",
       "    </tr>\n",
       "  </thead>\n",
       "  <tbody>\n",
       "    <tr>\n",
       "      <th>0</th>\n",
       "      <td>1872-11-30</td>\n",
       "      <td>Scotland</td>\n",
       "      <td>England</td>\n",
       "      <td>0.0</td>\n",
       "      <td>0.0</td>\n",
       "      <td>Friendly</td>\n",
       "      <td>Glasgow</td>\n",
       "      <td>Scotland</td>\n",
       "      <td>False</td>\n",
       "      <td>Draw</td>\n",
       "      <td>1872</td>\n",
       "    </tr>\n",
       "    <tr>\n",
       "      <th>1</th>\n",
       "      <td>1873-03-08</td>\n",
       "      <td>England</td>\n",
       "      <td>Scotland</td>\n",
       "      <td>4.0</td>\n",
       "      <td>2.0</td>\n",
       "      <td>Friendly</td>\n",
       "      <td>London</td>\n",
       "      <td>England</td>\n",
       "      <td>False</td>\n",
       "      <td>England</td>\n",
       "      <td>1873</td>\n",
       "    </tr>\n",
       "    <tr>\n",
       "      <th>2</th>\n",
       "      <td>1874-03-07</td>\n",
       "      <td>Scotland</td>\n",
       "      <td>England</td>\n",
       "      <td>2.0</td>\n",
       "      <td>1.0</td>\n",
       "      <td>Friendly</td>\n",
       "      <td>Glasgow</td>\n",
       "      <td>Scotland</td>\n",
       "      <td>False</td>\n",
       "      <td>Scotland</td>\n",
       "      <td>1874</td>\n",
       "    </tr>\n",
       "    <tr>\n",
       "      <th>3</th>\n",
       "      <td>1875-03-06</td>\n",
       "      <td>England</td>\n",
       "      <td>Scotland</td>\n",
       "      <td>2.0</td>\n",
       "      <td>2.0</td>\n",
       "      <td>Friendly</td>\n",
       "      <td>London</td>\n",
       "      <td>England</td>\n",
       "      <td>False</td>\n",
       "      <td>Draw</td>\n",
       "      <td>1875</td>\n",
       "    </tr>\n",
       "    <tr>\n",
       "      <th>4</th>\n",
       "      <td>1876-03-04</td>\n",
       "      <td>Scotland</td>\n",
       "      <td>England</td>\n",
       "      <td>3.0</td>\n",
       "      <td>0.0</td>\n",
       "      <td>Friendly</td>\n",
       "      <td>Glasgow</td>\n",
       "      <td>Scotland</td>\n",
       "      <td>False</td>\n",
       "      <td>Scotland</td>\n",
       "      <td>1876</td>\n",
       "    </tr>\n",
       "    <tr>\n",
       "      <th>...</th>\n",
       "      <td>...</td>\n",
       "      <td>...</td>\n",
       "      <td>...</td>\n",
       "      <td>...</td>\n",
       "      <td>...</td>\n",
       "      <td>...</td>\n",
       "      <td>...</td>\n",
       "      <td>...</td>\n",
       "      <td>...</td>\n",
       "      <td>...</td>\n",
       "      <td>...</td>\n",
       "    </tr>\n",
       "    <tr>\n",
       "      <th>47320</th>\n",
       "      <td>2024-07-06</td>\n",
       "      <td>NaN</td>\n",
       "      <td>NaN</td>\n",
       "      <td>NaN</td>\n",
       "      <td>NaN</td>\n",
       "      <td>UEFA Euro</td>\n",
       "      <td>Düsseldorf</td>\n",
       "      <td>Germany</td>\n",
       "      <td>True</td>\n",
       "      <td>None</td>\n",
       "      <td>2024</td>\n",
       "    </tr>\n",
       "    <tr>\n",
       "      <th>47321</th>\n",
       "      <td>2024-07-06</td>\n",
       "      <td>NaN</td>\n",
       "      <td>NaN</td>\n",
       "      <td>NaN</td>\n",
       "      <td>NaN</td>\n",
       "      <td>UEFA Euro</td>\n",
       "      <td>Berlin</td>\n",
       "      <td>Germany</td>\n",
       "      <td>True</td>\n",
       "      <td>None</td>\n",
       "      <td>2024</td>\n",
       "    </tr>\n",
       "    <tr>\n",
       "      <th>47322</th>\n",
       "      <td>2024-07-09</td>\n",
       "      <td>NaN</td>\n",
       "      <td>NaN</td>\n",
       "      <td>NaN</td>\n",
       "      <td>NaN</td>\n",
       "      <td>UEFA Euro</td>\n",
       "      <td>Munich</td>\n",
       "      <td>Germany</td>\n",
       "      <td>True</td>\n",
       "      <td>None</td>\n",
       "      <td>2024</td>\n",
       "    </tr>\n",
       "    <tr>\n",
       "      <th>47323</th>\n",
       "      <td>2024-07-10</td>\n",
       "      <td>NaN</td>\n",
       "      <td>NaN</td>\n",
       "      <td>NaN</td>\n",
       "      <td>NaN</td>\n",
       "      <td>UEFA Euro</td>\n",
       "      <td>Dortmund</td>\n",
       "      <td>Germany</td>\n",
       "      <td>True</td>\n",
       "      <td>None</td>\n",
       "      <td>2024</td>\n",
       "    </tr>\n",
       "    <tr>\n",
       "      <th>47324</th>\n",
       "      <td>2024-07-14</td>\n",
       "      <td>NaN</td>\n",
       "      <td>NaN</td>\n",
       "      <td>NaN</td>\n",
       "      <td>NaN</td>\n",
       "      <td>UEFA Euro</td>\n",
       "      <td>Berlin</td>\n",
       "      <td>Germany</td>\n",
       "      <td>True</td>\n",
       "      <td>None</td>\n",
       "      <td>2024</td>\n",
       "    </tr>\n",
       "  </tbody>\n",
       "</table>\n",
       "<p>47325 rows × 11 columns</p>\n",
       "</div>"
      ],
      "text/plain": [
       "            date home_team away_team  home_score  away_score tournament  \\\n",
       "0     1872-11-30  Scotland   England         0.0         0.0   Friendly   \n",
       "1     1873-03-08   England  Scotland         4.0         2.0   Friendly   \n",
       "2     1874-03-07  Scotland   England         2.0         1.0   Friendly   \n",
       "3     1875-03-06   England  Scotland         2.0         2.0   Friendly   \n",
       "4     1876-03-04  Scotland   England         3.0         0.0   Friendly   \n",
       "...          ...       ...       ...         ...         ...        ...   \n",
       "47320 2024-07-06       NaN       NaN         NaN         NaN  UEFA Euro   \n",
       "47321 2024-07-06       NaN       NaN         NaN         NaN  UEFA Euro   \n",
       "47322 2024-07-09       NaN       NaN         NaN         NaN  UEFA Euro   \n",
       "47323 2024-07-10       NaN       NaN         NaN         NaN  UEFA Euro   \n",
       "47324 2024-07-14       NaN       NaN         NaN         NaN  UEFA Euro   \n",
       "\n",
       "             city   country  neutral    winner  year  \n",
       "0         Glasgow  Scotland    False      Draw  1872  \n",
       "1          London   England    False   England  1873  \n",
       "2         Glasgow  Scotland    False  Scotland  1874  \n",
       "3          London   England    False      Draw  1875  \n",
       "4         Glasgow  Scotland    False  Scotland  1876  \n",
       "...           ...       ...      ...       ...   ...  \n",
       "47320  Düsseldorf   Germany     True      None  2024  \n",
       "47321      Berlin   Germany     True      None  2024  \n",
       "47322      Munich   Germany     True      None  2024  \n",
       "47323    Dortmund   Germany     True      None  2024  \n",
       "47324      Berlin   Germany     True      None  2024  \n",
       "\n",
       "[47325 rows x 11 columns]"
      ]
     },
     "execution_count": 135,
     "metadata": {},
     "output_type": "execute_result"
    }
   ],
   "source": [
    "df_clean"
   ]
  },
  {
   "cell_type": "code",
   "execution_count": 32,
   "id": "e7d8f334-5da8-4188-b1a9-4414cd6aec4f",
   "metadata": {
    "tags": []
   },
   "outputs": [],
   "source": [
    "df_results = pd.read_csv(\"data/Matches Data.csv\")"
   ]
  },
  {
   "cell_type": "code",
   "execution_count": 38,
   "id": "c2b9fdd2-cc6f-4c85-a550-272b8fdf3718",
   "metadata": {
    "tags": []
   },
   "outputs": [],
   "source": [
    "df_results = df_results.drop(\"Unnamed: 0\",axis=1)"
   ]
  },
  {
   "cell_type": "code",
   "execution_count": 143,
   "id": "2490f775-611e-40e5-8cd4-2cbf5785b249",
   "metadata": {
    "tags": []
   },
   "outputs": [],
   "source": [
    "filtered_df = df_clean[(df_clean[\"home_team\"].isin(team_list)) | (df_clean[\"away_team\"].isin(team_list))]\n",
    "\n",
    "filtered_df.to_csv(\"Matches Data.csv\")"
   ]
  },
  {
   "cell_type": "code",
   "execution_count": 48,
   "id": "8e3c7a9b-eab7-4a73-826f-b467cf264013",
   "metadata": {
    "tags": []
   },
   "outputs": [
    {
     "data": {
      "text/plain": [
       "array(['Germany', 'Hungary', 'Scotland', 'Switzerland', 'Spain', 'Italy',\n",
       "       'Croatia', 'Albania', 'Slovenia', 'Serbia', 'Denmark', 'England',\n",
       "       'Poland', 'Austria', 'Netherlands', 'France', 'Romania', 'Belgium',\n",
       "       'Slovakia', 'Ukraine', 'Türkiye', 'Portugal', 'Georgia', 'Czechia'],\n",
       "      dtype=object)"
      ]
     },
     "execution_count": 48,
     "metadata": {},
     "output_type": "execute_result"
    }
   ],
   "source": [
    "team_list"
   ]
  },
  {
   "cell_type": "code",
   "execution_count": 62,
   "id": "acaeedca-0510-493d-ab58-b1d0d969b24d",
   "metadata": {
    "tags": []
   },
   "outputs": [
    {
     "data": {
      "text/html": [
       "<div>\n",
       "<style scoped>\n",
       "    .dataframe tbody tr th:only-of-type {\n",
       "        vertical-align: middle;\n",
       "    }\n",
       "\n",
       "    .dataframe tbody tr th {\n",
       "        vertical-align: top;\n",
       "    }\n",
       "\n",
       "    .dataframe thead th {\n",
       "        text-align: right;\n",
       "    }\n",
       "</style>\n",
       "<table border=\"1\" class=\"dataframe\">\n",
       "  <thead>\n",
       "    <tr style=\"text-align: right;\">\n",
       "      <th></th>\n",
       "      <th>home_team</th>\n",
       "      <th>away_team</th>\n",
       "      <th>home_score</th>\n",
       "      <th>away_score</th>\n",
       "      <th>tournament</th>\n",
       "      <th>winner</th>\n",
       "      <th>year</th>\n",
       "    </tr>\n",
       "  </thead>\n",
       "  <tbody>\n",
       "  </tbody>\n",
       "</table>\n",
       "</div>"
      ],
      "text/plain": [
       "Empty DataFrame\n",
       "Columns: [home_team, away_team, home_score, away_score, tournament, winner, year]\n",
       "Index: []"
      ]
     },
     "execution_count": 62,
     "metadata": {},
     "output_type": "execute_result"
    }
   ],
   "source": [
    "filtered_df[(filtered_df[\"home_team\"]==\"Türkiye\")]"
   ]
  },
  {
   "cell_type": "code",
   "execution_count": 76,
   "id": "3d355884-1953-4dcf-b8dd-4dcf31f95ff5",
   "metadata": {
    "tags": []
   },
   "outputs": [],
   "source": [
    "t_list = df_results[\"home_team\"].unique()"
   ]
  },
  {
   "cell_type": "code",
   "execution_count": 86,
   "id": "f58062c0-9b4a-424d-8132-654062788909",
   "metadata": {
    "tags": []
   },
   "outputs": [],
   "source": [
    " #'Scotland', 'England', 'Austria', 'Belgium', 'France', 'Netherlands', 'Switzerland','Germany', 'Italy','Denmark',Spain','Poland','Portugal'\n",
    "# 'Romania','Slovakia','Croatia','Albania', 'Georgia','Slovenia','Serbia','Ukraine','Hungary'\n",
    "#'Czech Republic','Turkey'"
   ]
  },
  {
   "cell_type": "code",
   "execution_count": 101,
   "id": "a1c2b22b-e712-4b64-9ae6-45fdf54e731b",
   "metadata": {
    "tags": []
   },
   "outputs": [],
   "source": [
    "team_list[23] = 'Czech Republic'"
   ]
  },
  {
   "cell_type": "code",
   "execution_count": 103,
   "id": "87ef5705-e8ff-4d69-8c5e-1a0b9ed4ac8b",
   "metadata": {
    "tags": []
   },
   "outputs": [],
   "source": [
    "team_list[20] = 'Turkey'"
   ]
  },
  {
   "cell_type": "code",
   "execution_count": 111,
   "id": "4d34a30c-57b6-485e-827c-bcc3303e4475",
   "metadata": {
    "tags": []
   },
   "outputs": [
    {
     "data": {
      "text/html": [
       "<div>\n",
       "<style scoped>\n",
       "    .dataframe tbody tr th:only-of-type {\n",
       "        vertical-align: middle;\n",
       "    }\n",
       "\n",
       "    .dataframe tbody tr th {\n",
       "        vertical-align: top;\n",
       "    }\n",
       "\n",
       "    .dataframe thead th {\n",
       "        text-align: right;\n",
       "    }\n",
       "</style>\n",
       "<table border=\"1\" class=\"dataframe\">\n",
       "  <thead>\n",
       "    <tr style=\"text-align: right;\">\n",
       "      <th></th>\n",
       "      <th>Unnamed: 0</th>\n",
       "      <th>home_team</th>\n",
       "      <th>away_team</th>\n",
       "      <th>home_score</th>\n",
       "      <th>away_score</th>\n",
       "      <th>tournament</th>\n",
       "      <th>city</th>\n",
       "      <th>country</th>\n",
       "      <th>neutral</th>\n",
       "      <th>winner</th>\n",
       "      <th>year</th>\n",
       "    </tr>\n",
       "  </thead>\n",
       "  <tbody>\n",
       "    <tr>\n",
       "      <th>0</th>\n",
       "      <td>0</td>\n",
       "      <td>Scotland</td>\n",
       "      <td>England</td>\n",
       "      <td>0.0</td>\n",
       "      <td>0.0</td>\n",
       "      <td>Friendly</td>\n",
       "      <td>Glasgow</td>\n",
       "      <td>Scotland</td>\n",
       "      <td>False</td>\n",
       "      <td>Draw</td>\n",
       "      <td>1872</td>\n",
       "    </tr>\n",
       "    <tr>\n",
       "      <th>1</th>\n",
       "      <td>1</td>\n",
       "      <td>England</td>\n",
       "      <td>Scotland</td>\n",
       "      <td>4.0</td>\n",
       "      <td>2.0</td>\n",
       "      <td>Friendly</td>\n",
       "      <td>London</td>\n",
       "      <td>England</td>\n",
       "      <td>False</td>\n",
       "      <td>England</td>\n",
       "      <td>1873</td>\n",
       "    </tr>\n",
       "    <tr>\n",
       "      <th>2</th>\n",
       "      <td>2</td>\n",
       "      <td>Scotland</td>\n",
       "      <td>England</td>\n",
       "      <td>2.0</td>\n",
       "      <td>1.0</td>\n",
       "      <td>Friendly</td>\n",
       "      <td>Glasgow</td>\n",
       "      <td>Scotland</td>\n",
       "      <td>False</td>\n",
       "      <td>Scotland</td>\n",
       "      <td>1874</td>\n",
       "    </tr>\n",
       "    <tr>\n",
       "      <th>3</th>\n",
       "      <td>3</td>\n",
       "      <td>England</td>\n",
       "      <td>Scotland</td>\n",
       "      <td>2.0</td>\n",
       "      <td>2.0</td>\n",
       "      <td>Friendly</td>\n",
       "      <td>London</td>\n",
       "      <td>England</td>\n",
       "      <td>False</td>\n",
       "      <td>Draw</td>\n",
       "      <td>1875</td>\n",
       "    </tr>\n",
       "    <tr>\n",
       "      <th>4</th>\n",
       "      <td>4</td>\n",
       "      <td>Scotland</td>\n",
       "      <td>England</td>\n",
       "      <td>3.0</td>\n",
       "      <td>0.0</td>\n",
       "      <td>Friendly</td>\n",
       "      <td>Glasgow</td>\n",
       "      <td>Scotland</td>\n",
       "      <td>False</td>\n",
       "      <td>Scotland</td>\n",
       "      <td>1876</td>\n",
       "    </tr>\n",
       "    <tr>\n",
       "      <th>...</th>\n",
       "      <td>...</td>\n",
       "      <td>...</td>\n",
       "      <td>...</td>\n",
       "      <td>...</td>\n",
       "      <td>...</td>\n",
       "      <td>...</td>\n",
       "      <td>...</td>\n",
       "      <td>...</td>\n",
       "      <td>...</td>\n",
       "      <td>...</td>\n",
       "      <td>...</td>\n",
       "    </tr>\n",
       "    <tr>\n",
       "      <th>12254</th>\n",
       "      <td>47305</td>\n",
       "      <td>France</td>\n",
       "      <td>Poland</td>\n",
       "      <td>NaN</td>\n",
       "      <td>NaN</td>\n",
       "      <td>UEFA Euro</td>\n",
       "      <td>Dortmund</td>\n",
       "      <td>Germany</td>\n",
       "      <td>True</td>\n",
       "      <td>NaN</td>\n",
       "      <td>2024</td>\n",
       "    </tr>\n",
       "    <tr>\n",
       "      <th>12255</th>\n",
       "      <td>47306</td>\n",
       "      <td>Slovakia</td>\n",
       "      <td>Romania</td>\n",
       "      <td>NaN</td>\n",
       "      <td>NaN</td>\n",
       "      <td>UEFA Euro</td>\n",
       "      <td>Frankfurt</td>\n",
       "      <td>Germany</td>\n",
       "      <td>True</td>\n",
       "      <td>NaN</td>\n",
       "      <td>2024</td>\n",
       "    </tr>\n",
       "    <tr>\n",
       "      <th>12256</th>\n",
       "      <td>47307</td>\n",
       "      <td>Ukraine</td>\n",
       "      <td>Belgium</td>\n",
       "      <td>NaN</td>\n",
       "      <td>NaN</td>\n",
       "      <td>UEFA Euro</td>\n",
       "      <td>Stuttgart</td>\n",
       "      <td>Germany</td>\n",
       "      <td>True</td>\n",
       "      <td>NaN</td>\n",
       "      <td>2024</td>\n",
       "    </tr>\n",
       "    <tr>\n",
       "      <th>12257</th>\n",
       "      <td>47308</td>\n",
       "      <td>Georgia</td>\n",
       "      <td>Portugal</td>\n",
       "      <td>NaN</td>\n",
       "      <td>NaN</td>\n",
       "      <td>UEFA Euro</td>\n",
       "      <td>Gelsenkirchen</td>\n",
       "      <td>Germany</td>\n",
       "      <td>True</td>\n",
       "      <td>NaN</td>\n",
       "      <td>2024</td>\n",
       "    </tr>\n",
       "    <tr>\n",
       "      <th>12258</th>\n",
       "      <td>47309</td>\n",
       "      <td>Czech Republic</td>\n",
       "      <td>Turkey</td>\n",
       "      <td>NaN</td>\n",
       "      <td>NaN</td>\n",
       "      <td>UEFA Euro</td>\n",
       "      <td>Hamburg</td>\n",
       "      <td>Germany</td>\n",
       "      <td>True</td>\n",
       "      <td>NaN</td>\n",
       "      <td>2024</td>\n",
       "    </tr>\n",
       "  </tbody>\n",
       "</table>\n",
       "<p>3952 rows × 11 columns</p>\n",
       "</div>"
      ],
      "text/plain": [
       "       Unnamed: 0       home_team away_team  home_score  away_score  \\\n",
       "0               0        Scotland   England         0.0         0.0   \n",
       "1               1         England  Scotland         4.0         2.0   \n",
       "2               2        Scotland   England         2.0         1.0   \n",
       "3               3         England  Scotland         2.0         2.0   \n",
       "4               4        Scotland   England         3.0         0.0   \n",
       "...           ...             ...       ...         ...         ...   \n",
       "12254       47305          France    Poland         NaN         NaN   \n",
       "12255       47306        Slovakia   Romania         NaN         NaN   \n",
       "12256       47307         Ukraine   Belgium         NaN         NaN   \n",
       "12257       47308         Georgia  Portugal         NaN         NaN   \n",
       "12258       47309  Czech Republic    Turkey         NaN         NaN   \n",
       "\n",
       "      tournament           city   country  neutral    winner  year  \n",
       "0       Friendly        Glasgow  Scotland    False      Draw  1872  \n",
       "1       Friendly         London   England    False   England  1873  \n",
       "2       Friendly        Glasgow  Scotland    False  Scotland  1874  \n",
       "3       Friendly         London   England    False      Draw  1875  \n",
       "4       Friendly        Glasgow  Scotland    False  Scotland  1876  \n",
       "...          ...            ...       ...      ...       ...   ...  \n",
       "12254  UEFA Euro       Dortmund   Germany     True       NaN  2024  \n",
       "12255  UEFA Euro      Frankfurt   Germany     True       NaN  2024  \n",
       "12256  UEFA Euro      Stuttgart   Germany     True       NaN  2024  \n",
       "12257  UEFA Euro  Gelsenkirchen   Germany     True       NaN  2024  \n",
       "12258  UEFA Euro        Hamburg   Germany     True       NaN  2024  \n",
       "\n",
       "[3952 rows x 11 columns]"
      ]
     },
     "execution_count": 111,
     "metadata": {},
     "output_type": "execute_result"
    }
   ],
   "source": [
    "filtered_df = test[(test[\"home_team\"].isin(team_list)) & (test[\"away_team\"].isin(team_list))]\n",
    "filtered_df"
   ]
  },
  {
   "cell_type": "code",
   "execution_count": 117,
   "id": "135d9405-f015-423f-8bf5-a3650b3b1676",
   "metadata": {
    "tags": []
   },
   "outputs": [
    {
     "data": {
      "text/plain": [
       "24"
      ]
     },
     "execution_count": 117,
     "metadata": {},
     "output_type": "execute_result"
    }
   ],
   "source": [
    "len(filtered_df[\"away_team\"].unique())"
   ]
  },
  {
   "cell_type": "code",
   "execution_count": 74,
   "id": "4e1e5a9d-eb0d-4130-8b9d-0991b1fb27b7",
   "metadata": {
    "tags": []
   },
   "outputs": [],
   "source": [
    "test = pd.read_csv(\"data/Matches Data.csv\")"
   ]
  },
  {
   "cell_type": "code",
   "execution_count": 76,
   "id": "fbbad6e2-cd7d-4797-87f8-958bcd811473",
   "metadata": {
    "tags": []
   },
   "outputs": [
    {
     "data": {
      "text/plain": [
       "array(['Scotland', 'England', 'Wales', 'Northern Ireland', 'Austria',\n",
       "       'Hungary', 'Belgium', 'France', 'Netherlands', 'Czechoslovakia',\n",
       "       'Switzerland', 'Germany', 'Italy', 'Sweden', 'Luxembourg',\n",
       "       'Norway', 'Russia', 'Denmark', 'Catalonia', 'Canada', 'Finland',\n",
       "       'Spain', 'Poland', 'Yugoslavia', 'Romania', 'Portugal', 'Estonia',\n",
       "       'Turkey', 'Egypt', 'Uruguay', 'Latvia', 'Bulgaria', 'Argentina',\n",
       "       'Belarus', 'Republic of Ireland', 'Peru', 'Chile', 'Brazil',\n",
       "       'Lithuania', 'Greece', 'Silesia', 'United States', 'Cuba',\n",
       "       'Slovakia', 'Croatia', 'Iceland', 'Albania', 'Iran', 'Mexico',\n",
       "       'Israel', 'Saarland', 'German DR', 'South Korea', 'Curaçao',\n",
       "       'Aruba', 'Suriname', 'Lebanon', 'Malta', 'China PR', 'Paraguay',\n",
       "       'Morocco', 'Ethiopia', 'Senegal', 'Algeria', 'Pakistan', 'Cyprus',\n",
       "       'North Korea', 'Tunisia', 'DR Congo', 'Bermuda', 'Saudi Arabia',\n",
       "       'Iraq', 'Colombia', 'Ecuador', 'Togo', 'Benin', 'Haiti',\n",
       "       'El Salvador', 'Northern Cyprus', 'Gambia', 'Bolivia', 'Libya',\n",
       "       'Georgia', 'Australia', 'Basque Country', 'Japan', 'Venezuela',\n",
       "       'New Zealand', 'Liechtenstein', 'Ivory Coast', 'Zimbabwe', 'Kenya',\n",
       "       'India', 'Honduras', 'Qatar', 'Guatemala', 'Kuwait',\n",
       "       'United Arab Emirates', 'Costa Rica', 'Cameroon', 'Faroe Islands',\n",
       "       'San Marino', 'Malaysia', 'Slovenia', 'Moldova', 'Ukraine',\n",
       "       'Czech Republic', 'Azerbaijan', 'North Macedonia', 'Nigeria',\n",
       "       'Serbia', 'Armenia', 'South Africa', 'Bosnia and Herzegovina',\n",
       "       'Ghana', 'Oman', 'Jamaica', 'Andorra', 'Bangladesh', 'Jordan',\n",
       "       'Bahrain', 'Kazakhstan', 'Thailand', 'Antigua and Barbuda',\n",
       "       'Hong Kong', 'Angola', 'Montenegro', 'Trinidad and Tobago',\n",
       "       'Mozambique', 'Puerto Rico', 'Gabon', 'Panama', 'Indonesia',\n",
       "       'Equatorial Guinea', 'Gibraltar', 'Kosovo', 'Uzbekistan',\n",
       "       'Dominican Republic'], dtype=object)"
      ]
     },
     "execution_count": 76,
     "metadata": {},
     "output_type": "execute_result"
    }
   ],
   "source": [
    "test[\"home_team\"].unique()"
   ]
  },
  {
   "cell_type": "code",
   "execution_count": 78,
   "id": "9f54f55b-30e6-4725-9c42-faeb9d9abec4",
   "metadata": {
    "tags": []
   },
   "outputs": [
    {
     "ename": "NameError",
     "evalue": "name 'team_l' is not defined",
     "output_type": "error",
     "traceback": [
      "\u001b[1;31m---------------------------------------------------------------------------\u001b[0m",
      "\u001b[1;31mNameError\u001b[0m                                 Traceback (most recent call last)",
      "Cell \u001b[1;32mIn[78], line 1\u001b[0m\n\u001b[1;32m----> 1\u001b[0m \u001b[43mteam_l\u001b[49m\n",
      "\u001b[1;31mNameError\u001b[0m: name 'team_l' is not defined"
     ]
    }
   ],
   "source": [
    "team_l"
   ]
  },
  {
   "cell_type": "code",
   "execution_count": 119,
   "id": "8247d32e-7432-4ea6-a872-f338deac59cf",
   "metadata": {
    "tags": []
   },
   "outputs": [],
   "source": [
    "filtered_df.to_csv(\"data/Matches Data.csv\")"
   ]
  },
  {
   "cell_type": "code",
   "execution_count": 138,
   "id": "eb82de06-4dee-4587-a714-dab25e49fe4d",
   "metadata": {},
   "outputs": [],
   "source": [
    "df_temp = pd.read_csv(\"data/power_rankings_2016-2024.csv\")"
   ]
  },
  {
   "cell_type": "code",
   "execution_count": 158,
   "id": "612c1b29-c097-4471-8d50-b684d4868cee",
   "metadata": {
    "tags": []
   },
   "outputs": [],
   "source": [
    "df_long = pd.melt(df_temp, id_vars=['Country'], var_name='Year', value_name='Rank')"
   ]
  },
  {
   "cell_type": "code",
   "execution_count": 160,
   "id": "f09e5326-a734-4261-ab7c-3803cf069b25",
   "metadata": {
    "tags": []
   },
   "outputs": [
    {
     "data": {
      "text/html": [
       "<div>\n",
       "<style scoped>\n",
       "    .dataframe tbody tr th:only-of-type {\n",
       "        vertical-align: middle;\n",
       "    }\n",
       "\n",
       "    .dataframe tbody tr th {\n",
       "        vertical-align: top;\n",
       "    }\n",
       "\n",
       "    .dataframe thead th {\n",
       "        text-align: right;\n",
       "    }\n",
       "</style>\n",
       "<table border=\"1\" class=\"dataframe\">\n",
       "  <thead>\n",
       "    <tr style=\"text-align: right;\">\n",
       "      <th></th>\n",
       "      <th>Country</th>\n",
       "      <th>Year</th>\n",
       "      <th>Rank</th>\n",
       "    </tr>\n",
       "  </thead>\n",
       "  <tbody>\n",
       "    <tr>\n",
       "      <th>0</th>\n",
       "      <td>France</td>\n",
       "      <td>2024</td>\n",
       "      <td>1</td>\n",
       "    </tr>\n",
       "    <tr>\n",
       "      <th>1</th>\n",
       "      <td>Belgium</td>\n",
       "      <td>2024</td>\n",
       "      <td>2</td>\n",
       "    </tr>\n",
       "    <tr>\n",
       "      <th>2</th>\n",
       "      <td>England</td>\n",
       "      <td>2024</td>\n",
       "      <td>3</td>\n",
       "    </tr>\n",
       "    <tr>\n",
       "      <th>3</th>\n",
       "      <td>Netherlands</td>\n",
       "      <td>2024</td>\n",
       "      <td>5</td>\n",
       "    </tr>\n",
       "    <tr>\n",
       "      <th>4</th>\n",
       "      <td>Croatia</td>\n",
       "      <td>2024</td>\n",
       "      <td>8</td>\n",
       "    </tr>\n",
       "    <tr>\n",
       "      <th>...</th>\n",
       "      <td>...</td>\n",
       "      <td>...</td>\n",
       "      <td>...</td>\n",
       "    </tr>\n",
       "    <tr>\n",
       "      <th>211</th>\n",
       "      <td>Romania</td>\n",
       "      <td>2016</td>\n",
       "      <td>17</td>\n",
       "    </tr>\n",
       "    <tr>\n",
       "      <th>212</th>\n",
       "      <td>Slovakia</td>\n",
       "      <td>2016</td>\n",
       "      <td>13</td>\n",
       "    </tr>\n",
       "    <tr>\n",
       "      <th>213</th>\n",
       "      <td>Slovenia</td>\n",
       "      <td>2016</td>\n",
       "      <td>21</td>\n",
       "    </tr>\n",
       "    <tr>\n",
       "      <th>214</th>\n",
       "      <td>Albania</td>\n",
       "      <td>2016</td>\n",
       "      <td>23</td>\n",
       "    </tr>\n",
       "    <tr>\n",
       "      <th>215</th>\n",
       "      <td>Georgia</td>\n",
       "      <td>2016</td>\n",
       "      <td>24</td>\n",
       "    </tr>\n",
       "  </tbody>\n",
       "</table>\n",
       "<p>216 rows × 3 columns</p>\n",
       "</div>"
      ],
      "text/plain": [
       "         Country  Year  Rank\n",
       "0         France  2024     1\n",
       "1        Belgium  2024     2\n",
       "2        England  2024     3\n",
       "3    Netherlands  2024     5\n",
       "4        Croatia  2024     8\n",
       "..           ...   ...   ...\n",
       "211      Romania  2016    17\n",
       "212     Slovakia  2016    13\n",
       "213     Slovenia  2016    21\n",
       "214      Albania  2016    23\n",
       "215      Georgia  2016    24\n",
       "\n",
       "[216 rows x 3 columns]"
      ]
     },
     "execution_count": 160,
     "metadata": {},
     "output_type": "execute_result"
    }
   ],
   "source": [
    "df_long"
   ]
  },
  {
   "cell_type": "code",
   "execution_count": 171,
   "id": "de4be759-079e-4ebc-8cc0-726fc6a1c777",
   "metadata": {
    "tags": []
   },
   "outputs": [],
   "source": [
    "filtered_df = pd.read_csv(\"data/Matches Data.csv\")"
   ]
  },
  {
   "cell_type": "code",
   "execution_count": 173,
   "id": "e6be1858-e640-49c6-9dc0-898e71d9f838",
   "metadata": {
    "tags": []
   },
   "outputs": [
    {
     "data": {
      "text/plain": [
       "24"
      ]
     },
     "execution_count": 173,
     "metadata": {},
     "output_type": "execute_result"
    }
   ],
   "source": [
    "len(filtered_df[\"home_team\"].unique())"
   ]
  },
  {
   "cell_type": "code",
   "execution_count": null,
   "id": "230e12b5-a14e-46b5-9e02-bde4d8931fd9",
   "metadata": {},
   "outputs": [],
   "source": []
  }
 ],
 "metadata": {
  "kernelspec": {
   "display_name": "MGL",
   "language": "python",
   "name": "mgl"
  },
  "language_info": {
   "codemirror_mode": {
    "name": "ipython",
    "version": 3
   },
   "file_extension": ".py",
   "mimetype": "text/x-python",
   "name": "python",
   "nbconvert_exporter": "python",
   "pygments_lexer": "ipython3",
   "version": "3.10.14"
  }
 },
 "nbformat": 4,
 "nbformat_minor": 5
}
