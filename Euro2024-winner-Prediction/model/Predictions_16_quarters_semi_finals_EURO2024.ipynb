{
 "cells": [
  {
   "cell_type": "markdown",
   "metadata": {},
   "source": [
    "# Predictions 16th, quarters, semi and finals"
   ]
  },
  {
   "cell_type": "code",
   "execution_count": 1,
   "metadata": {},
   "outputs": [],
   "source": [
    "import pandas as pd\n",
    "import pickle"
   ]
  },
  {
   "cell_type": "code",
   "execution_count": 10,
   "metadata": {},
   "outputs": [],
   "source": [
    "def extract_after_last_underscore(s):\n",
    "    # Find the last underscore in the string\n",
    "    last_underscore_index = s.rfind('_')\n",
    "    if last_underscore_index != -1:\n",
    "        # Extract the substring after the last underscore\n",
    "        return s[last_underscore_index + 1:].replace('.pkl', '')\n",
    "    else:\n",
    "        # If there's no underscore, return the string without the file extension\n",
    "        return s.replace('.pkl', '')"
   ]
  },
  {
   "cell_type": "code",
   "execution_count": 87,
   "metadata": {},
   "outputs": [
    {
     "data": {
      "text/plain": [
       "'winner_RF'"
      ]
     },
     "execution_count": 87,
     "metadata": {},
     "output_type": "execute_result"
    }
   ],
   "source": [
    "# try if the fucntion works:\n",
    "model = 'MODEL_perYEARrankings_RF.pkl'\n",
    "'winner_'+ extract_after_last_underscore(model)"
   ]
  },
  {
   "cell_type": "markdown",
   "metadata": {},
   "source": [
    "# ACHTEL FINALE"
   ]
  },
  {
   "cell_type": "code",
   "execution_count": 3,
   "metadata": {},
   "outputs": [
    {
     "data": {
      "text/html": [
       "<div>\n",
       "<style scoped>\n",
       "    .dataframe tbody tr th:only-of-type {\n",
       "        vertical-align: middle;\n",
       "    }\n",
       "\n",
       "    .dataframe tbody tr th {\n",
       "        vertical-align: top;\n",
       "    }\n",
       "\n",
       "    .dataframe thead th {\n",
       "        text-align: right;\n",
       "    }\n",
       "</style>\n",
       "<table border=\"1\" class=\"dataframe\">\n",
       "  <thead>\n",
       "    <tr style=\"text-align: right;\">\n",
       "      <th></th>\n",
       "      <th>home_team</th>\n",
       "      <th>away_team</th>\n",
       "    </tr>\n",
       "  </thead>\n",
       "  <tbody>\n",
       "    <tr>\n",
       "      <th>0</th>\n",
       "      <td>Portugal</td>\n",
       "      <td>Switzerland</td>\n",
       "    </tr>\n",
       "    <tr>\n",
       "      <th>1</th>\n",
       "      <td>Netherlands</td>\n",
       "      <td>Ukraine</td>\n",
       "    </tr>\n",
       "    <tr>\n",
       "      <th>2</th>\n",
       "      <td>Spain</td>\n",
       "      <td>Turkey</td>\n",
       "    </tr>\n",
       "    <tr>\n",
       "      <th>3</th>\n",
       "      <td>Germany</td>\n",
       "      <td>Denmark</td>\n",
       "    </tr>\n",
       "    <tr>\n",
       "      <th>4</th>\n",
       "      <td>Belgium</td>\n",
       "      <td>Croatia</td>\n",
       "    </tr>\n",
       "    <tr>\n",
       "      <th>5</th>\n",
       "      <td>France</td>\n",
       "      <td>Czech Republic</td>\n",
       "    </tr>\n",
       "    <tr>\n",
       "      <th>6</th>\n",
       "      <td>England</td>\n",
       "      <td>Austria</td>\n",
       "    </tr>\n",
       "    <tr>\n",
       "      <th>7</th>\n",
       "      <td>Hungary</td>\n",
       "      <td>Italy</td>\n",
       "    </tr>\n",
       "  </tbody>\n",
       "</table>\n",
       "</div>"
      ],
      "text/plain": [
       "     home_team       away_team\n",
       "0     Portugal     Switzerland\n",
       "1  Netherlands         Ukraine\n",
       "2        Spain          Turkey\n",
       "3      Germany         Denmark\n",
       "4      Belgium         Croatia\n",
       "5       France  Czech Republic\n",
       "6      England         Austria\n",
       "7      Hungary           Italy"
      ]
     },
     "execution_count": 3,
     "metadata": {},
     "output_type": "execute_result"
    }
   ],
   "source": [
    "# load input files\n",
    "Achtel = pd.read_csv('./data/Achtel_finals_updated.csv').drop(columns='Unnamed: 0')\n",
    "# Achtel_AVERAGE = Achtel[Achtel['model']=='average']\n",
    "# the input file needs: ['home_team', 'away_team', 'rank_home_team', 'rank_away_team'] \n",
    "Achtel = Achtel.drop(columns='model')\n",
    "Achtel"
   ]
  },
  {
   "cell_type": "code",
   "execution_count": 6,
   "metadata": {},
   "outputs": [],
   "source": [
    "# get the power rankings:\n",
    "scaled_power_rankings_2024 = pd.read_csv('./data/scaled_power_rankings_2016-2024_updated.csv')"
   ]
  },
  {
   "cell_type": "code",
   "execution_count": 8,
   "metadata": {},
   "outputs": [
    {
     "name": "stdout",
     "output_type": "stream",
     "text": [
      "<class 'pandas.core.frame.DataFrame'>\n",
      "RangeIndex: 8 entries, 0 to 7\n",
      "Data columns (total 4 columns):\n",
      " #   Column          Non-Null Count  Dtype  \n",
      "---  ------          --------------  -----  \n",
      " 0   home_team       8 non-null      object \n",
      " 1   away_team       8 non-null      object \n",
      " 2   rank_home_team  8 non-null      float64\n",
      " 3   rank_away_team  8 non-null      float64\n",
      "dtypes: float64(2), object(2)\n",
      "memory usage: 384.0+ bytes\n"
     ]
    }
   ],
   "source": [
    "#scaled_power_rankings_2024 merge Country with input file  on Home_Team and also on Away_Team\n",
    "\n",
    "Achtel_withPWERrank = pd.merge(Achtel, scaled_power_rankings_2024, left_on='home_team', right_on='Country', how='inner').iloc[:,0:4].drop(columns='Country').rename(columns={'2024':'rank_home_team'})\n",
    "Achtel_withPWERrank = pd.merge(Achtel_withPWERrank, scaled_power_rankings_2024, left_on='away_team', right_on='Country', how='inner').iloc[:,0:5].drop(columns='Country').rename(columns={'2024':'rank_away_team'})\n",
    "Achtel_withPWERrank.info()\n",
    "# export:\n",
    "Achtel_withPWERrank.to_csv('./data/Achtel_finals_updated_withPWERrank.csv', index=False)"
   ]
  },
  {
   "cell_type": "code",
   "execution_count": 10,
   "metadata": {},
   "outputs": [
    {
     "data": {
      "text/html": [
       "<div>\n",
       "<style scoped>\n",
       "    .dataframe tbody tr th:only-of-type {\n",
       "        vertical-align: middle;\n",
       "    }\n",
       "\n",
       "    .dataframe tbody tr th {\n",
       "        vertical-align: top;\n",
       "    }\n",
       "\n",
       "    .dataframe thead th {\n",
       "        text-align: right;\n",
       "    }\n",
       "</style>\n",
       "<table border=\"1\" class=\"dataframe\">\n",
       "  <thead>\n",
       "    <tr style=\"text-align: right;\">\n",
       "      <th></th>\n",
       "      <th>home_team</th>\n",
       "      <th>away_team</th>\n",
       "      <th>rank_home_team</th>\n",
       "      <th>rank_away_team</th>\n",
       "      <th>winner_RF</th>\n",
       "    </tr>\n",
       "  </thead>\n",
       "  <tbody>\n",
       "    <tr>\n",
       "      <th>0</th>\n",
       "      <td>Portugal</td>\n",
       "      <td>Switzerland</td>\n",
       "      <td>1.227936</td>\n",
       "      <td>0.361158</td>\n",
       "      <td>Home</td>\n",
       "    </tr>\n",
       "    <tr>\n",
       "      <th>1</th>\n",
       "      <td>Netherlands</td>\n",
       "      <td>Ukraine</td>\n",
       "      <td>1.083473</td>\n",
       "      <td>0.072232</td>\n",
       "      <td>Home</td>\n",
       "    </tr>\n",
       "    <tr>\n",
       "      <th>2</th>\n",
       "      <td>Spain</td>\n",
       "      <td>Turkey</td>\n",
       "      <td>0.939010</td>\n",
       "      <td>-0.939010</td>\n",
       "      <td>Home</td>\n",
       "    </tr>\n",
       "    <tr>\n",
       "      <th>3</th>\n",
       "      <td>Germany</td>\n",
       "      <td>Denmark</td>\n",
       "      <td>0.505621</td>\n",
       "      <td>0.216695</td>\n",
       "      <td>Home</td>\n",
       "    </tr>\n",
       "    <tr>\n",
       "      <th>4</th>\n",
       "      <td>Belgium</td>\n",
       "      <td>Croatia</td>\n",
       "      <td>1.516862</td>\n",
       "      <td>0.650084</td>\n",
       "      <td>Home</td>\n",
       "    </tr>\n",
       "    <tr>\n",
       "      <th>5</th>\n",
       "      <td>France</td>\n",
       "      <td>Czech Republic</td>\n",
       "      <td>1.661325</td>\n",
       "      <td>-0.650084</td>\n",
       "      <td>Home</td>\n",
       "    </tr>\n",
       "    <tr>\n",
       "      <th>6</th>\n",
       "      <td>England</td>\n",
       "      <td>Austria</td>\n",
       "      <td>1.372399</td>\n",
       "      <td>-0.072232</td>\n",
       "      <td>Home</td>\n",
       "    </tr>\n",
       "    <tr>\n",
       "      <th>7</th>\n",
       "      <td>Hungary</td>\n",
       "      <td>Italy</td>\n",
       "      <td>-0.216695</td>\n",
       "      <td>0.794547</td>\n",
       "      <td>Away</td>\n",
       "    </tr>\n",
       "  </tbody>\n",
       "</table>\n",
       "</div>"
      ],
      "text/plain": [
       "     home_team       away_team  rank_home_team  rank_away_team winner_RF\n",
       "0     Portugal     Switzerland        1.227936        0.361158      Home\n",
       "1  Netherlands         Ukraine        1.083473        0.072232      Home\n",
       "2        Spain          Turkey        0.939010       -0.939010      Home\n",
       "3      Germany         Denmark        0.505621        0.216695      Home\n",
       "4      Belgium         Croatia        1.516862        0.650084      Home\n",
       "5       France  Czech Republic        1.661325       -0.650084      Home\n",
       "6      England         Austria        1.372399       -0.072232      Home\n",
       "7      Hungary           Italy       -0.216695        0.794547      Away"
      ]
     },
     "execution_count": 10,
     "metadata": {},
     "output_type": "execute_result"
    }
   ],
   "source": [
    "# for model in ['MODEL_perYEARrankings_RF.pkl', 'MODEL_QDA.pkl', 'MODEL_XGBBOST.pkl']:\n",
    "# for model in ['MODEL_perYEARrankings_RF.pkl', 'MODEL_perYEARrankings_RF.pkl', 'MODEL_perYEARrankings_RF.pkl']: # just to try\n",
    "\n",
    "model = 'MODEL_perYEARrankings_RF.pkl'\n",
    "# Load the model\n",
    "with open(model, 'rb') as f:  # change model file here\n",
    "    loaded_model = pickle.load(f)\n",
    "# print('MODEL :',loaded_model.best_estimator)\n",
    "# and predict:\n",
    "predictions = loaded_model.predict(Achtel_withPWERrank)\n",
    "#include this to round16_predictions\n",
    "Achtel_withPWERrank['winner_RF'] = predictions\n",
    "# export\n",
    "Achtel_withPWERrank.to_csv('./data/Achtel_updated_withPWERrank_Predictions_RF.csv', index=False)\n",
    "# display\n",
    "Achtel_withPWERrank\n"
   ]
  },
  {
   "cell_type": "code",
   "execution_count": null,
   "metadata": {},
   "outputs": [],
   "source": []
  }
 ],
 "metadata": {
  "kernelspec": {
   "display_name": "MLG",
   "language": "python",
   "name": "python3"
  },
  "language_info": {
   "codemirror_mode": {
    "name": "ipython",
    "version": 3
   },
   "file_extension": ".py",
   "mimetype": "text/x-python",
   "name": "python",
   "nbconvert_exporter": "python",
   "pygments_lexer": "ipython3",
   "version": "3.10.14"
  }
 },
 "nbformat": 4,
 "nbformat_minor": 2
}
